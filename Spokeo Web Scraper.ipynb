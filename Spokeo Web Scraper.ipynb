{
 "cells": [
  {
   "cell_type": "code",
   "execution_count": 56,
   "id": "36912d03",
   "metadata": {},
   "outputs": [],
   "source": [
    "import pandas as pd\n",
    "from selenium.webdriver.common.by import By\n",
    "from selenium.webdriver.support.ui import WebDriverWait\n",
    "from selenium.webdriver.support import expected_conditions as EC\n",
    "from selenium.webdriver.common.keys import Keys\n",
    "from selenium.common.exceptions import NoSuchElementException"
   ]
  },
  {
   "cell_type": "code",
   "execution_count": 72,
   "id": "25688905",
   "metadata": {},
   "outputs": [],
   "source": [
    "df = pd.read_excel('C:/Users/training.lhr/Desktop/VB Data-2023/VB Data Modified/Zain Bhai Files/Phase 2 Files/Select States Files Part 1/Files To Upload/CA_OH File 2.xlsx', sheet_name=0)\n",
    "\n",
    "phone_numbers = df[\"Phone Number\"].tolist()\n",
    "area_codes = df[\"Area Code\"].tolist()\n",
    "states = df[\"State\"].tolist()\n",
    "\n",
    "data = []\n",
    "for i in range(len(phone_numbers)):\n",
    "    row = {\n",
    "        \"phone_number\": phone_numbers[i],\n",
    "        \"area_code\": area_codes[i],\n",
    "        \"state\": states[i]\n",
    "    }\n",
    "    data.append(row)"
   ]
  },
  {
   "cell_type": "code",
   "execution_count": 74,
   "id": "44267508",
   "metadata": {},
   "outputs": [],
   "source": [
    "spokeo_url = 'https://www.spokeo.com/'\n",
    "driver.get(spokeo_url)"
   ]
  },
  {
   "cell_type": "code",
   "execution_count": 81,
   "id": "39bfc051",
   "metadata": {},
   "outputs": [],
   "source": [
    "df = pd.read_excel('C:/Users/training.lhr/Desktop/VB Data-2023/VB Data Modified/Zain Bhai Files/Phase 2 Files/Select States Files Part 1/Files To Upload/CA_OH File 2.xlsx', sheet_name=0)\n",
    "\n",
    "phone_numbers = df[\"Phone Number\"].tolist()\n",
    "area_codes = df[\"Area Code\"].tolist()\n",
    "states = df[\"State\"].tolist()\n",
    "\n",
    "data = []\n",
    "for i in range(len(phone_numbers)):\n",
    "    row = {\n",
    "        \"phone_number\": phone_numbers[i],\n",
    "        \"area_code\": area_codes[i],\n",
    "        \"state\": states[i]\n",
    "    }\n",
    "    data.append(row)\n",
    "\n",
    "login_button = WebDriverWait(driver, 10).until(EC.presence_of_element_located((By.XPATH, '//*[@id=\"header__\"]/header/div/div/div/div/div[3]/div[1]/div/a[2]')))\n",
    "login_button.click()\n",
    "\n",
    "email_input = WebDriverWait(driver, 10).until(EC.presence_of_element_located((By.XPATH, '//*[@id=\"email_address\"]')))\n",
    "email_input.send_keys(\"sybridthatsthem55@gmail.com\")\n",
    "\n",
    "password_input = WebDriverWait(driver, 10).until(EC.presence_of_element_located((By.XPATH, '//*[@id=\"password\"]')))\n",
    "password_input.send_keys(\"Welcome@123\")\n",
    "\n",
    "for phone_number in phone_numbers:\n",
    "    \n",
    "    search_bar_prev = WebDriverWait(driver, 10).until(EC.presence_of_element_located((By.XPATH, '//*[@id=\"homepage_hero_form\"]/div/div[1]/input')))\n",
    "    search_bar_prev.send_keys(Keys.CONTROL + \"a\")\n",
    "    search_bar_prev.send_keys(Keys.DELETE)\n",
    "    search_bar_prev.send_keys(phone_number)\n",
    "\n",
    "    search_button_prev = WebDriverWait(driver, 20).until(EC.presence_of_element_located((By.XPATH, '//*[@id=\"search\"]')))\n",
    "    driver.execute_script(\"arguments[0].click();\", search_button_prev)\n",
    "    \n",
    "    wait = WebDriverWait(driver, 20)\n",
    "    wait.until(EC.presence_of_element_located((By.XPATH,'//*[@id=\"header__\"]/header/div/div/div/div/div[2]/div/div/form/div/div/div/div/input')))  \n",
    "    \n",
    "    try:\n",
    "        \n",
    "        see_results_button = WebDriverWait(driver, 10).until(EC.presence_of_element_located((By.XPATH, '//*[@id=\"owner-0\"]/div[4]/a')))\n",
    "        driver.execute_script(\"arguments[0].click();\", see_results_button)\n",
    "    \n",
    "        try:\n",
    "            customer_name = driver.find_element(By.XPATH, '//*[@id=\"possible-owner-0\"]/a/div/span/div[1]/div[1]/ul/li/div').text\n",
    "            customer_address = driver.find_element(By.XPATH, '//*[@id=\"possible-owner-0\"]/a/div/span/div[1]/div[2]/span').text\n",
    "\n",
    "        except NoSuchElementException:\n",
    "\n",
    "            customer_name = \"\"\n",
    "            customer_address = \"\"\n",
    "            \n",
    "    except NoSuchElementException:\n",
    "        \n",
    "        customer_name = \"\"\n",
    "        customer_address = \"\"\n",
    "\n",
    "        \n",
    "    df.loc[df[\"Phone Number\"] == phone_number, \"Customer Name\"] = customer_name\n",
    "    df.loc[df[\"Phone Number\"] == phone_number, \"Customer Address\"] = customer_address\n",
    "    \n",
    "    df.to_excel(\"CA_OH File 2.xlsx\", index=False)\n",
    "    driver.get(spokeo_url)\n",
    "    \n",
    "\n",
    "df.to_excel(\"CA_OH File 2.xlsx\", index=False)"
   ]
  }
 ],
 "metadata": {
  "kernelspec": {
   "display_name": "Python 3 (ipykernel)",
   "language": "python",
   "name": "python3"
  },
  "language_info": {
   "codemirror_mode": {
    "name": "ipython",
    "version": 3
   },
   "file_extension": ".py",
   "mimetype": "text/x-python",
   "name": "python",
   "nbconvert_exporter": "python",
   "pygments_lexer": "ipython3",
   "version": "3.11.7"
  }
 },
 "nbformat": 4,
 "nbformat_minor": 5
}
